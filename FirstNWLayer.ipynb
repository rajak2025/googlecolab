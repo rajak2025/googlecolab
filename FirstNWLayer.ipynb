{
  "nbformat": 4,
  "nbformat_minor": 0,
  "metadata": {
    "colab": {
      "name": "FirstNWLayer.ipynb",
      "provenance": [],
      "authorship_tag": "ABX9TyP/zKd6JWGYxfP95MPVTg6J",
      "include_colab_link": true
    },
    "kernelspec": {
      "name": "python3",
      "display_name": "Python 3"
    }
  },
  "cells": [
    {
      "cell_type": "markdown",
      "metadata": {
        "id": "view-in-github",
        "colab_type": "text"
      },
      "source": [
        "<a href=\"https://colab.research.google.com/github/rajak2025/googlecolab/blob/master/FirstNWLayer.ipynb\" target=\"_parent\"><img src=\"https://colab.research.google.com/assets/colab-badge.svg\" alt=\"Open In Colab\"/></a>"
      ]
    },
    {
      "cell_type": "code",
      "metadata": {
        "id": "9i6F_kelObOO",
        "colab_type": "code",
        "outputId": "23cb37f8-1bc8-4960-c38b-a28b925e3408",
        "colab": {
          "base_uri": "https://localhost:8080/",
          "height": 195
        }
      },
      "source": [
        "%tensorflow_version 2.x\n",
        "import tensorflow as tf\n",
        "\n",
        "# Download and import the MIT 6.S191 package\n",
        "!pip install mitdeeplearning\n",
        "import mitdeeplearning as mdl\n",
        "\n",
        "import numpy as np\n",
        "import matplotlib.pyplot as plt\n",
        "\n",
        "\n"
      ],
      "execution_count": 0,
      "outputs": [
        {
          "output_type": "stream",
          "text": [
            "Requirement already satisfied: mitdeeplearning in /usr/local/lib/python3.6/dist-packages (0.1.2)\n",
            "Requirement already satisfied: regex in /usr/local/lib/python3.6/dist-packages (from mitdeeplearning) (2019.12.20)\n",
            "Requirement already satisfied: tqdm in /usr/local/lib/python3.6/dist-packages (from mitdeeplearning) (4.41.1)\n",
            "Requirement already satisfied: numpy in /usr/local/lib/python3.6/dist-packages (from mitdeeplearning) (1.18.4)\n",
            "Requirement already satisfied: gym in /usr/local/lib/python3.6/dist-packages (from mitdeeplearning) (0.17.2)\n",
            "Requirement already satisfied: scipy in /usr/local/lib/python3.6/dist-packages (from gym->mitdeeplearning) (1.4.1)\n",
            "Requirement already satisfied: pyglet<=1.5.0,>=1.4.0 in /usr/local/lib/python3.6/dist-packages (from gym->mitdeeplearning) (1.5.0)\n",
            "Requirement already satisfied: cloudpickle<1.4.0,>=1.2.0 in /usr/local/lib/python3.6/dist-packages (from gym->mitdeeplearning) (1.3.0)\n",
            "Requirement already satisfied: future in /usr/local/lib/python3.6/dist-packages (from pyglet<=1.5.0,>=1.4.0->gym->mitdeeplearning) (0.16.0)\n"
          ],
          "name": "stdout"
        }
      ]
    },
    {
      "cell_type": "code",
      "metadata": {
        "id": "PKewH1mYT6ov",
        "colab_type": "code",
        "outputId": "182c4210-e0e9-4d78-9ee2-7707e97b2085",
        "colab": {
          "base_uri": "https://localhost:8080/",
          "height": 70
        }
      },
      "source": [
        "\n",
        "# Defining a network Layer\n",
        "\n",
        "# n_output_nodes: number of output nodes\n",
        "# input_shape : shape of the input\n",
        "# x: input to the Layer\n",
        "\n",
        "class OurDenseLayer(tf.keras.layers.Layer):\n",
        "  def __init__(self, n_output_nodes):\n",
        "    super(OurDenseLayer,self).__init__()\n",
        "    self.n_output_nodes = n_output_nodes\n",
        "  \n",
        "  def build(self, input_shape):\n",
        "    d = int(input_shape[-1])\n",
        "    # Define and initialize parameters: weight matix W and bias b\n",
        "    # Note that parameter initialization is random!\n",
        "    self.W = self.add_weight(\"weight\", shape=[d, self.n_output_nodes]) # note the dimensionality\n",
        "    self.b = self.add_weight(\"bias\", shape=[1, self.n_output_nodes]) # note the dimensionality\n",
        "\n",
        "  def call(self,x) :\n",
        "    z = tf.matmul(x, self.W)+ self.b\n",
        "    y = tf.sigmoid(z)\n",
        "    return y\n",
        "\n",
        "#Since layer parameters are initialized randomly, we will set a random seed for reproducibilty\n",
        "tf.random.set_seed(1)\n",
        "layer = OurDenseLayer(3)\n",
        "layer.build((1,2))\n",
        "x_input = tf.constant([[1,2.]], shape=(1,2))\n",
        "y = layer.call(x_input)\n",
        "\n",
        "#test the output!\n",
        "print(y.numpy())\n",
        "mdl.lab1.test_custom_dense_layer_output(y)"
      ],
      "execution_count": 0,
      "outputs": [
        {
          "output_type": "stream",
          "text": [
            "[[0.2697859  0.45750418 0.66536945]]\n",
            "[PASS] test_custom_dense_layer_output\n"
          ],
          "name": "stdout"
        },
        {
          "output_type": "execute_result",
          "data": {
            "text/plain": [
              "True"
            ]
          },
          "metadata": {
            "tags": []
          },
          "execution_count": 9
        }
      ]
    },
    {
      "cell_type": "code",
      "metadata": {
        "id": "wj6zms_FZTfT",
        "colab_type": "code",
        "outputId": "2ed0334c-be47-40aa-8803-8cc3fa48f6ea",
        "colab": {
          "base_uri": "https://localhost:8080/",
          "height": 354
        }
      },
      "source": [
        "### Defining a neural network using the Sequential API\n",
        "\n",
        "#Import relevant packages\n",
        "%tensorflow_version 2.x\n",
        "import tensorflow as tf\n",
        "\n",
        "# Download and import the MIT 6.S191 package\n",
        "!pip install mitdeeplearning\n",
        "import mitdeeplearning as mdl\n",
        "\n",
        "import numpy as np\n",
        "import matplotlib.pyplot as plt\n",
        "\n",
        "from tensorflow.keras import Sequential\n",
        "from tensorflow.keras.layers import Dense\n",
        "\n",
        "##Define the number of outputs\n",
        "n_output_nodes = 3\n",
        "\n",
        "#Define the model\n",
        "model = Sequential()\n",
        "\n",
        "dense_layer = Dense(n_output_nodes, activation=\"sigmoid\")\n",
        "\n",
        "model.add(dense_layer)"
      ],
      "execution_count": 0,
      "outputs": [
        {
          "output_type": "stream",
          "text": [
            "Collecting mitdeeplearning\n",
            "\u001b[?25l  Downloading https://files.pythonhosted.org/packages/8b/3b/b9174b68dc10832356d02a2d83a64b43a24f1762c172754407d22fc8f960/mitdeeplearning-0.1.2.tar.gz (2.1MB)\n",
            "\r\u001b[K     |▏                               | 10kB 15.4MB/s eta 0:00:01\r\u001b[K     |▎                               | 20kB 1.7MB/s eta 0:00:02\r\u001b[K     |▌                               | 30kB 2.2MB/s eta 0:00:01\r\u001b[K     |▋                               | 40kB 2.5MB/s eta 0:00:01\r\u001b[K     |▉                               | 51kB 2.0MB/s eta 0:00:02\r\u001b[K     |█                               | 61kB 2.3MB/s eta 0:00:01\r\u001b[K     |█                               | 71kB 2.5MB/s eta 0:00:01\r\u001b[K     |█▎                              | 81kB 2.7MB/s eta 0:00:01\r\u001b[K     |█▍                              | 92kB 2.9MB/s eta 0:00:01\r\u001b[K     |█▋                              | 102kB 2.8MB/s eta 0:00:01\r\u001b[K     |█▊                              | 112kB 2.8MB/s eta 0:00:01\r\u001b[K     |█▉                              | 122kB 2.8MB/s eta 0:00:01\r\u001b[K     |██                              | 133kB 2.8MB/s eta 0:00:01\r\u001b[K     |██▏                             | 143kB 2.8MB/s eta 0:00:01\r\u001b[K     |██▍                             | 153kB 2.8MB/s eta 0:00:01\r\u001b[K     |██▌                             | 163kB 2.8MB/s eta 0:00:01\r\u001b[K     |██▊                             | 174kB 2.8MB/s eta 0:00:01\r\u001b[K     |██▉                             | 184kB 2.8MB/s eta 0:00:01\r\u001b[K     |███                             | 194kB 2.8MB/s eta 0:00:01\r\u001b[K     |███▏                            | 204kB 2.8MB/s eta 0:00:01\r\u001b[K     |███▎                            | 215kB 2.8MB/s eta 0:00:01\r\u001b[K     |███▌                            | 225kB 2.8MB/s eta 0:00:01\r\u001b[K     |███▋                            | 235kB 2.8MB/s eta 0:00:01\r\u001b[K     |███▊                            | 245kB 2.8MB/s eta 0:00:01\r\u001b[K     |████                            | 256kB 2.8MB/s eta 0:00:01\r\u001b[K     |████                            | 266kB 2.8MB/s eta 0:00:01\r\u001b[K     |████▎                           | 276kB 2.8MB/s eta 0:00:01\r\u001b[K     |████▍                           | 286kB 2.8MB/s eta 0:00:01\r\u001b[K     |████▋                           | 296kB 2.8MB/s eta 0:00:01\r\u001b[K     |████▊                           | 307kB 2.8MB/s eta 0:00:01\r\u001b[K     |████▉                           | 317kB 2.8MB/s eta 0:00:01\r\u001b[K     |█████                           | 327kB 2.8MB/s eta 0:00:01\r\u001b[K     |█████▏                          | 337kB 2.8MB/s eta 0:00:01\r\u001b[K     |█████▍                          | 348kB 2.8MB/s eta 0:00:01\r\u001b[K     |█████▌                          | 358kB 2.8MB/s eta 0:00:01\r\u001b[K     |█████▋                          | 368kB 2.8MB/s eta 0:00:01\r\u001b[K     |█████▉                          | 378kB 2.8MB/s eta 0:00:01\r\u001b[K     |██████                          | 389kB 2.8MB/s eta 0:00:01\r\u001b[K     |██████▏                         | 399kB 2.8MB/s eta 0:00:01\r\u001b[K     |██████▎                         | 409kB 2.8MB/s eta 0:00:01\r\u001b[K     |██████▌                         | 419kB 2.8MB/s eta 0:00:01\r\u001b[K     |██████▋                         | 430kB 2.8MB/s eta 0:00:01\r\u001b[K     |██████▊                         | 440kB 2.8MB/s eta 0:00:01\r\u001b[K     |███████                         | 450kB 2.8MB/s eta 0:00:01\r\u001b[K     |███████                         | 460kB 2.8MB/s eta 0:00:01\r\u001b[K     |███████▎                        | 471kB 2.8MB/s eta 0:00:01\r\u001b[K     |███████▍                        | 481kB 2.8MB/s eta 0:00:01\r\u001b[K     |███████▌                        | 491kB 2.8MB/s eta 0:00:01\r\u001b[K     |███████▊                        | 501kB 2.8MB/s eta 0:00:01\r\u001b[K     |███████▉                        | 512kB 2.8MB/s eta 0:00:01\r\u001b[K     |████████                        | 522kB 2.8MB/s eta 0:00:01\r\u001b[K     |████████▏                       | 532kB 2.8MB/s eta 0:00:01\r\u001b[K     |████████▍                       | 542kB 2.8MB/s eta 0:00:01\r\u001b[K     |████████▌                       | 552kB 2.8MB/s eta 0:00:01\r\u001b[K     |████████▋                       | 563kB 2.8MB/s eta 0:00:01\r\u001b[K     |████████▉                       | 573kB 2.8MB/s eta 0:00:01\r\u001b[K     |█████████                       | 583kB 2.8MB/s eta 0:00:01\r\u001b[K     |█████████▏                      | 593kB 2.8MB/s eta 0:00:01\r\u001b[K     |█████████▎                      | 604kB 2.8MB/s eta 0:00:01\r\u001b[K     |█████████▍                      | 614kB 2.8MB/s eta 0:00:01\r\u001b[K     |█████████▋                      | 624kB 2.8MB/s eta 0:00:01\r\u001b[K     |█████████▊                      | 634kB 2.8MB/s eta 0:00:01\r\u001b[K     |██████████                      | 645kB 2.8MB/s eta 0:00:01\r\u001b[K     |██████████                      | 655kB 2.8MB/s eta 0:00:01\r\u001b[K     |██████████▎                     | 665kB 2.8MB/s eta 0:00:01\r\u001b[K     |██████████▍                     | 675kB 2.8MB/s eta 0:00:01\r\u001b[K     |██████████▌                     | 686kB 2.8MB/s eta 0:00:01\r\u001b[K     |██████████▊                     | 696kB 2.8MB/s eta 0:00:01\r\u001b[K     |██████████▉                     | 706kB 2.8MB/s eta 0:00:01\r\u001b[K     |███████████                     | 716kB 2.8MB/s eta 0:00:01\r\u001b[K     |███████████▏                    | 727kB 2.8MB/s eta 0:00:01\r\u001b[K     |███████████▎                    | 737kB 2.8MB/s eta 0:00:01\r\u001b[K     |███████████▌                    | 747kB 2.8MB/s eta 0:00:01\r\u001b[K     |███████████▋                    | 757kB 2.8MB/s eta 0:00:01\r\u001b[K     |███████████▉                    | 768kB 2.8MB/s eta 0:00:01\r\u001b[K     |████████████                    | 778kB 2.8MB/s eta 0:00:01\r\u001b[K     |████████████                    | 788kB 2.8MB/s eta 0:00:01\r\u001b[K     |████████████▎                   | 798kB 2.8MB/s eta 0:00:01\r\u001b[K     |████████████▍                   | 808kB 2.8MB/s eta 0:00:01\r\u001b[K     |████████████▋                   | 819kB 2.8MB/s eta 0:00:01\r\u001b[K     |████████████▊                   | 829kB 2.8MB/s eta 0:00:01\r\u001b[K     |█████████████                   | 839kB 2.8MB/s eta 0:00:01\r\u001b[K     |█████████████                   | 849kB 2.8MB/s eta 0:00:01\r\u001b[K     |█████████████▏                  | 860kB 2.8MB/s eta 0:00:01\r\u001b[K     |█████████████▍                  | 870kB 2.8MB/s eta 0:00:01\r\u001b[K     |█████████████▌                  | 880kB 2.8MB/s eta 0:00:01\r\u001b[K     |█████████████▊                  | 890kB 2.8MB/s eta 0:00:01\r\u001b[K     |█████████████▉                  | 901kB 2.8MB/s eta 0:00:01\r\u001b[K     |██████████████                  | 911kB 2.8MB/s eta 0:00:01\r\u001b[K     |██████████████▏                 | 921kB 2.8MB/s eta 0:00:01\r\u001b[K     |██████████████▎                 | 931kB 2.8MB/s eta 0:00:01\r\u001b[K     |██████████████▌                 | 942kB 2.8MB/s eta 0:00:01\r\u001b[K     |██████████████▋                 | 952kB 2.8MB/s eta 0:00:01\r\u001b[K     |██████████████▉                 | 962kB 2.8MB/s eta 0:00:01\r\u001b[K     |███████████████                 | 972kB 2.8MB/s eta 0:00:01\r\u001b[K     |███████████████                 | 983kB 2.8MB/s eta 0:00:01\r\u001b[K     |███████████████▎                | 993kB 2.8MB/s eta 0:00:01\r\u001b[K     |███████████████▍                | 1.0MB 2.8MB/s eta 0:00:01\r\u001b[K     |███████████████▋                | 1.0MB 2.8MB/s eta 0:00:01\r\u001b[K     |███████████████▊                | 1.0MB 2.8MB/s eta 0:00:01\r\u001b[K     |███████████████▉                | 1.0MB 2.8MB/s eta 0:00:01\r\u001b[K     |████████████████                | 1.0MB 2.8MB/s eta 0:00:01\r\u001b[K     |████████████████▏               | 1.1MB 2.8MB/s eta 0:00:01\r\u001b[K     |████████████████▍               | 1.1MB 2.8MB/s eta 0:00:01\r\u001b[K     |████████████████▌               | 1.1MB 2.8MB/s eta 0:00:01\r\u001b[K     |████████████████▊               | 1.1MB 2.8MB/s eta 0:00:01\r\u001b[K     |████████████████▉               | 1.1MB 2.8MB/s eta 0:00:01\r\u001b[K     |█████████████████               | 1.1MB 2.8MB/s eta 0:00:01\r\u001b[K     |█████████████████▏              | 1.1MB 2.8MB/s eta 0:00:01\r\u001b[K     |█████████████████▎              | 1.1MB 2.8MB/s eta 0:00:01\r\u001b[K     |█████████████████▌              | 1.1MB 2.8MB/s eta 0:00:01\r\u001b[K     |█████████████████▋              | 1.1MB 2.8MB/s eta 0:00:01\r\u001b[K     |█████████████████▊              | 1.2MB 2.8MB/s eta 0:00:01\r\u001b[K     |██████████████████              | 1.2MB 2.8MB/s eta 0:00:01\r\u001b[K     |██████████████████              | 1.2MB 2.8MB/s eta 0:00:01\r\u001b[K     |██████████████████▎             | 1.2MB 2.8MB/s eta 0:00:01\r\u001b[K     |██████████████████▍             | 1.2MB 2.8MB/s eta 0:00:01\r\u001b[K     |██████████████████▋             | 1.2MB 2.8MB/s eta 0:00:01\r\u001b[K     |██████████████████▊             | 1.2MB 2.8MB/s eta 0:00:01\r\u001b[K     |██████████████████▉             | 1.2MB 2.8MB/s eta 0:00:01\r\u001b[K     |███████████████████             | 1.2MB 2.8MB/s eta 0:00:01\r\u001b[K     |███████████████████▏            | 1.2MB 2.8MB/s eta 0:00:01\r\u001b[K     |███████████████████▍            | 1.3MB 2.8MB/s eta 0:00:01\r\u001b[K     |███████████████████▌            | 1.3MB 2.8MB/s eta 0:00:01\r\u001b[K     |███████████████████▋            | 1.3MB 2.8MB/s eta 0:00:01\r\u001b[K     |███████████████████▉            | 1.3MB 2.8MB/s eta 0:00:01\r\u001b[K     |████████████████████            | 1.3MB 2.8MB/s eta 0:00:01\r\u001b[K     |████████████████████▏           | 1.3MB 2.8MB/s eta 0:00:01\r\u001b[K     |████████████████████▎           | 1.3MB 2.8MB/s eta 0:00:01\r\u001b[K     |████████████████████▌           | 1.3MB 2.8MB/s eta 0:00:01\r\u001b[K     |████████████████████▋           | 1.3MB 2.8MB/s eta 0:00:01\r\u001b[K     |████████████████████▊           | 1.4MB 2.8MB/s eta 0:00:01\r\u001b[K     |█████████████████████           | 1.4MB 2.8MB/s eta 0:00:01\r\u001b[K     |█████████████████████           | 1.4MB 2.8MB/s eta 0:00:01\r\u001b[K     |█████████████████████▎          | 1.4MB 2.8MB/s eta 0:00:01\r\u001b[K     |█████████████████████▍          | 1.4MB 2.8MB/s eta 0:00:01\r\u001b[K     |█████████████████████▌          | 1.4MB 2.8MB/s eta 0:00:01\r\u001b[K     |█████████████████████▊          | 1.4MB 2.8MB/s eta 0:00:01\r\u001b[K     |█████████████████████▉          | 1.4MB 2.8MB/s eta 0:00:01\r\u001b[K     |██████████████████████          | 1.4MB 2.8MB/s eta 0:00:01\r\u001b[K     |██████████████████████▏         | 1.4MB 2.8MB/s eta 0:00:01\r\u001b[K     |██████████████████████▍         | 1.5MB 2.8MB/s eta 0:00:01\r\u001b[K     |██████████████████████▌         | 1.5MB 2.8MB/s eta 0:00:01\r\u001b[K     |██████████████████████▋         | 1.5MB 2.8MB/s eta 0:00:01\r\u001b[K     |██████████████████████▉         | 1.5MB 2.8MB/s eta 0:00:01\r\u001b[K     |███████████████████████         | 1.5MB 2.8MB/s eta 0:00:01\r\u001b[K     |███████████████████████▏        | 1.5MB 2.8MB/s eta 0:00:01\r\u001b[K     |███████████████████████▎        | 1.5MB 2.8MB/s eta 0:00:01\r\u001b[K     |███████████████████████▍        | 1.5MB 2.8MB/s eta 0:00:01\r\u001b[K     |███████████████████████▋        | 1.5MB 2.8MB/s eta 0:00:01\r\u001b[K     |███████████████████████▊        | 1.5MB 2.8MB/s eta 0:00:01\r\u001b[K     |████████████████████████        | 1.6MB 2.8MB/s eta 0:00:01\r\u001b[K     |████████████████████████        | 1.6MB 2.8MB/s eta 0:00:01\r\u001b[K     |████████████████████████▏       | 1.6MB 2.8MB/s eta 0:00:01\r\u001b[K     |████████████████████████▍       | 1.6MB 2.8MB/s eta 0:00:01\r\u001b[K     |████████████████████████▌       | 1.6MB 2.8MB/s eta 0:00:01\r\u001b[K     |████████████████████████▊       | 1.6MB 2.8MB/s eta 0:00:01\r\u001b[K     |████████████████████████▉       | 1.6MB 2.8MB/s eta 0:00:01\r\u001b[K     |█████████████████████████       | 1.6MB 2.8MB/s eta 0:00:01\r\u001b[K     |█████████████████████████▏      | 1.6MB 2.8MB/s eta 0:00:01\r\u001b[K     |█████████████████████████▎      | 1.6MB 2.8MB/s eta 0:00:01\r\u001b[K     |█████████████████████████▌      | 1.7MB 2.8MB/s eta 0:00:01\r\u001b[K     |█████████████████████████▋      | 1.7MB 2.8MB/s eta 0:00:01\r\u001b[K     |█████████████████████████▉      | 1.7MB 2.8MB/s eta 0:00:01\r\u001b[K     |██████████████████████████      | 1.7MB 2.8MB/s eta 0:00:01\r\u001b[K     |██████████████████████████      | 1.7MB 2.8MB/s eta 0:00:01\r\u001b[K     |██████████████████████████▎     | 1.7MB 2.8MB/s eta 0:00:01\r\u001b[K     |██████████████████████████▍     | 1.7MB 2.8MB/s eta 0:00:01\r\u001b[K     |██████████████████████████▋     | 1.7MB 2.8MB/s eta 0:00:01\r\u001b[K     |██████████████████████████▊     | 1.7MB 2.8MB/s eta 0:00:01\r\u001b[K     |███████████████████████████     | 1.8MB 2.8MB/s eta 0:00:01\r\u001b[K     |███████████████████████████     | 1.8MB 2.8MB/s eta 0:00:01\r\u001b[K     |███████████████████████████▏    | 1.8MB 2.8MB/s eta 0:00:01\r\u001b[K     |███████████████████████████▍    | 1.8MB 2.8MB/s eta 0:00:01\r\u001b[K     |███████████████████████████▌    | 1.8MB 2.8MB/s eta 0:00:01\r\u001b[K     |███████████████████████████▊    | 1.8MB 2.8MB/s eta 0:00:01\r\u001b[K     |███████████████████████████▉    | 1.8MB 2.8MB/s eta 0:00:01\r\u001b[K     |████████████████████████████    | 1.8MB 2.8MB/s eta 0:00:01\r\u001b[K     |████████████████████████████▏   | 1.8MB 2.8MB/s eta 0:00:01\r\u001b[K     |████████████████████████████▎   | 1.8MB 2.8MB/s eta 0:00:01\r\u001b[K     |████████████████████████████▌   | 1.9MB 2.8MB/s eta 0:00:01\r\u001b[K     |████████████████████████████▋   | 1.9MB 2.8MB/s eta 0:00:01\r\u001b[K     |████████████████████████████▉   | 1.9MB 2.8MB/s eta 0:00:01\r\u001b[K     |█████████████████████████████   | 1.9MB 2.8MB/s eta 0:00:01\r\u001b[K     |█████████████████████████████   | 1.9MB 2.8MB/s eta 0:00:01\r\u001b[K     |█████████████████████████████▎  | 1.9MB 2.8MB/s eta 0:00:01\r\u001b[K     |█████████████████████████████▍  | 1.9MB 26kB/s eta 0:00:07\r\u001b[K     |█████████████████████████████▋  | 1.9MB 26kB/s eta 0:00:06\r\u001b[K     |█████████████████████████████▊  | 1.9MB 26kB/s eta 0:00:06\r\u001b[K     |█████████████████████████████▉  | 1.9MB 26kB/s eta 0:00:06\r\u001b[K     |██████████████████████████████  | 2.0MB 26kB/s eta 0:00:05\r\u001b[K     |██████████████████████████████▏ | 2.0MB 26kB/s eta 0:00:05\r\u001b[K     |██████████████████████████████▍ | 2.0MB 26kB/s eta 0:00:04\r\u001b[K     |██████████████████████████████▌ | 2.0MB 26kB/s eta 0:00:04\r\u001b[K     |██████████████████████████████▊ | 2.0MB 26kB/s eta 0:00:04\r\u001b[K     |██████████████████████████████▉ | 2.0MB 26kB/s eta 0:00:03\r\u001b[K     |███████████████████████████████ | 2.0MB 26kB/s eta 0:00:03\r\u001b[K     |███████████████████████████████▏| 2.0MB 26kB/s eta 0:00:03\r\u001b[K     |███████████████████████████████▎| 2.0MB 26kB/s eta 0:00:02\r\u001b[K     |███████████████████████████████▌| 2.0MB 26kB/s eta 0:00:02\r\u001b[K     |███████████████████████████████▋| 2.1MB 26kB/s eta 0:00:01\r\u001b[K     |███████████████████████████████▊| 2.1MB 26kB/s eta 0:00:01\r\u001b[K     |████████████████████████████████| 2.1MB 26kB/s eta 0:00:01\r\u001b[K     |████████████████████████████████| 2.1MB 26kB/s \n",
            "\u001b[?25hRequirement already satisfied: numpy in /usr/local/lib/python3.6/dist-packages (from mitdeeplearning) (1.18.4)\n",
            "Requirement already satisfied: regex in /usr/local/lib/python3.6/dist-packages (from mitdeeplearning) (2019.12.20)\n",
            "Requirement already satisfied: tqdm in /usr/local/lib/python3.6/dist-packages (from mitdeeplearning) (4.41.1)\n",
            "Requirement already satisfied: gym in /usr/local/lib/python3.6/dist-packages (from mitdeeplearning) (0.17.2)\n",
            "Requirement already satisfied: cloudpickle<1.4.0,>=1.2.0 in /usr/local/lib/python3.6/dist-packages (from gym->mitdeeplearning) (1.3.0)\n",
            "Requirement already satisfied: pyglet<=1.5.0,>=1.4.0 in /usr/local/lib/python3.6/dist-packages (from gym->mitdeeplearning) (1.5.0)\n",
            "Requirement already satisfied: scipy in /usr/local/lib/python3.6/dist-packages (from gym->mitdeeplearning) (1.4.1)\n",
            "Requirement already satisfied: future in /usr/local/lib/python3.6/dist-packages (from pyglet<=1.5.0,>=1.4.0->gym->mitdeeplearning) (0.16.0)\n",
            "Building wheels for collected packages: mitdeeplearning\n",
            "  Building wheel for mitdeeplearning (setup.py) ... \u001b[?25l\u001b[?25hdone\n",
            "  Created wheel for mitdeeplearning: filename=mitdeeplearning-0.1.2-cp36-none-any.whl size=2114586 sha256=95922ea47a9f6e01cbcb48f26d876b8e518c270501d5ad9783151e80a644cc39\n",
            "  Stored in directory: /root/.cache/pip/wheels/27/e1/73/5f01c787621d8a3c857f59876c79e304b9b64db9ff5bd61b74\n",
            "Successfully built mitdeeplearning\n",
            "Installing collected packages: mitdeeplearning\n",
            "Successfully installed mitdeeplearning-0.1.2\n"
          ],
          "name": "stdout"
        }
      ]
    },
    {
      "cell_type": "code",
      "metadata": {
        "id": "VvcbdRWJdQd6",
        "colab_type": "code",
        "outputId": "9290733a-1dd9-430d-8b6e-8eff2d05bf9d",
        "colab": {
          "base_uri": "https://localhost:8080/",
          "height": 34
        }
      },
      "source": [
        "x_input = tf.constant([[1,2.]], shape=(1,2))\n",
        "\n",
        "model_output = model(x_input).numpy()\n",
        "\n",
        "print(model_output)"
      ],
      "execution_count": 0,
      "outputs": [
        {
          "output_type": "stream",
          "text": [
            "[[0.05699701 0.29744783 0.22539347]]\n"
          ],
          "name": "stdout"
        }
      ]
    },
    {
      "cell_type": "code",
      "metadata": {
        "id": "K1w8bnw0g-Vm",
        "colab_type": "code",
        "outputId": "1bf9784b-53f9-45f9-92dd-ed32950f6561",
        "colab": {
          "base_uri": "https://localhost:8080/",
          "height": 34
        }
      },
      "source": [
        "## Defining a model using subclassing\n",
        "\n",
        "from tensorflow.keras import Model\n",
        "from tensorflow.keras.layers import Dense\n",
        "\n",
        "class SubclassModel(tf.keras.Model) :\n",
        "\n",
        "    def __init__(self, n_output_nodes):\n",
        "      super(SubclassModel, self).__init__()\n",
        "      self.dense_layer = Dense(n_output_nodes, activation=\"sigmoid\")\n",
        "\n",
        "    def call(self,inputs):\n",
        "      return self.dense_layer(inputs)\n",
        "\n",
        "\n",
        "n_output_nodes = 3\n",
        "model = SubclassModel(n_output_nodes)\n",
        "x_input = tf.constant([[1,2.]], shape=(1,2))\n",
        "print(model.call(x_input))"
      ],
      "execution_count": 0,
      "outputs": [
        {
          "output_type": "stream",
          "text": [
            "tf.Tensor([[0.5607363 0.6566898 0.1249697]], shape=(1, 3), dtype=float32)\n"
          ],
          "name": "stdout"
        }
      ]
    },
    {
      "cell_type": "code",
      "metadata": {
        "id": "2ER_NrZlPuGn",
        "colab_type": "code",
        "outputId": "b72da3b4-b34e-422b-b25a-d55ebdd89af0",
        "colab": {
          "base_uri": "https://localhost:8080/",
          "height": 52
        }
      },
      "source": [
        "## Defining a model using subclassing and specifying custom behavior\n",
        "import tensorflow as tf\n",
        "import numpy as np\n",
        "\n",
        "from tensorflow.keras import Model\n",
        "from tensorflow.keras.layers import Dense\n",
        "\n",
        "class IdentityModel(tf.keras.Model) :\n",
        "  def __init__(self,n_output_nodes) :\n",
        "    super(IdentityModel, self).__init__()\n",
        "    self.dense_layer = tf.keras.layers.Dense(n_output_nodes, activation = \"sigmoid\")\n",
        "\n",
        "  def call(self, inputs, isidentity = False):\n",
        "    x = self.dense_layer(inputs)\n",
        "    if isidentity:\n",
        "      return inputs\n",
        "    return x\n",
        "\n",
        "\n",
        "n_output_nodes = 3\n",
        "model = IdentityModel(n_output_nodes)\n",
        "\n",
        "x_input = tf.constant([[1,2.]], shape=(1,2))\n",
        "\n",
        "out_activate = model.call(x_input)\n",
        "out_identity = model.call(x_input, isidentity=True)\n",
        "\n",
        "print(f\"Network output with activation {out_activate.numpy()} \\nNetwork output without activation {out_identity.numpy()}\")\n"
      ],
      "execution_count": 0,
      "outputs": [
        {
          "output_type": "stream",
          "text": [
            "Network output with activation [[0.31298232 0.7704039  0.25804654]] \n",
            "Network output without activation [[1. 2.]]\n"
          ],
          "name": "stdout"
        }
      ]
    },
    {
      "cell_type": "markdown",
      "metadata": {
        "id": "m0XELV_RTz2B",
        "colab_type": "text"
      },
      "source": [
        " Automatic differentiation in TensorFlow\n",
        "Automatic differentiation is one of the most important parts of TensorFlow and is the backbone of training with backpropagation. We will use the TensorFlow GradientTape tf.GradientTape to trace operations for computing gradients later.\n",
        "\n",
        "When a forward pass is made through the network, all forward-pass operations get recorded to a \"tape\"; then, to compute the gradient, the tape is played backwards. By default, the tape is discarded after it is played backwards; this means that a particular tf.GradientTape can only compute one gradient, and subsequent calls throw a runtime error. However, we can compute multiple gradients over the same computation by creating a persistent gradient tape.\n",
        "\n",
        "First, we will look at how we can compute gradients using GradientTape and access them for computation. We define the simple function $ y = x^2$ and compute the gradient:"
      ]
    },
    {
      "cell_type": "code",
      "metadata": {
        "id": "6UjTvaqHTzTp",
        "colab_type": "code",
        "colab": {}
      },
      "source": [
        "import tensorflow as tf\n",
        "import numpy as np"
      ],
      "execution_count": 0,
      "outputs": []
    },
    {
      "cell_type": "code",
      "metadata": {
        "id": "BHbiLLzUcSBb",
        "colab_type": "code",
        "colab": {}
      },
      "source": [
        "## Gradient computation with Gradient Tape\n",
        "\n",
        "# y = x^2\n",
        "# Example: x =3.0\n",
        "x = tf.Variable(3.0)\n",
        "\n",
        "# Inititate the gradient tape\n",
        "with tf.GradientTape() as tape:\n",
        "  y = x * x\n",
        "# Access the gradient -- derivative of y with respect to x\n",
        "dy_dx = tape.gradient(y,x)\n",
        "\n",
        "assert dy_dx.numpy() == 6.0"
      ],
      "execution_count": 0,
      "outputs": []
    },
    {
      "cell_type": "markdown",
      "metadata": {
        "id": "w40UXzC-dGhm",
        "colab_type": "text"
      },
      "source": [
        "In training neural networks, we use differentiation and stochastic gradient descent (SGD) to optimize a loss function. Now that we have a sense of how GradientTape can be used to compute and access derivatives, we will look at an example where we use automatic differentiation and SGD to find the minimum of $L=(x-x_f)^2$. Here $x_f$ is a variable for a desired value we are trying to optimize for; $L$ represents a loss that we are trying to minimize. While we can clearly solve this problem analytically ($x_{min}=x_f$), considering how we can compute this using GradientTape sets us up nicely for future labs where we use gradient descent to optimize entire neural network losses."
      ]
    },
    {
      "cell_type": "code",
      "metadata": {
        "id": "zbwudDc0dJl3",
        "colab_type": "code",
        "outputId": "b30beb40-3844-4b9e-e6db-eea63ee01e80",
        "colab": {
          "base_uri": "https://localhost:8080/",
          "height": 314
        }
      },
      "source": [
        "import tensorflow as tf\n",
        "import numpy as np\n",
        "import matplotlib.pyplot as plt\n",
        "\n",
        "## Function minimization with automatic differentiation and SGD\n",
        "\n",
        "# Initiate a randow value for our initial x\n",
        "x = tf.Variable([tf.random.normal([1])])\n",
        "print(f\"Initializing x = {x.numpy()}\")\n",
        "\n",
        "learning_rate = 1e-2 # learning rate for SGD that is 1*10^-2 == 0.01\n",
        "history = []\n",
        "# Define the target value\n",
        "x_f = 4\n",
        "\n",
        "# we will run SGD for a number of iterations. At each iteration, we compute the loss,\n",
        "# compute the derivate of the loss with respect to x, and perform the SGD update.\n",
        "for i in range(500) :\n",
        "  with tf.GradientTape() as tape:\n",
        "    loss = (x - x_f)**2 #\"forward pass\": record the current loss on the tape\n",
        "    grad = tape.gradient(loss, x) #Compute the derivative of the loss with respect to x\n",
        "    new_x = x - learning_rate*grad #sgd update\n",
        "    x.assign(new_x) #update the value of x\n",
        "    history.append(x.numpy()[0])\n",
        "\n",
        "# Plot the evolution of x as we optimize towars x_f!\n",
        "\n",
        "plt.plot(history)\n",
        "plt.plot([0,500],[x_f,x_f])\n",
        "plt.legend(('Predicted','True'))\n",
        "plt.xlabel('Iteration')\n",
        "plt.ylabel('x value')\n"
      ],
      "execution_count": 0,
      "outputs": [
        {
          "output_type": "stream",
          "text": [
            "Initializing x = [[2.187664]]\n"
          ],
          "name": "stdout"
        },
        {
          "output_type": "execute_result",
          "data": {
            "text/plain": [
              "Text(0, 0.5, 'x value')"
            ]
          },
          "metadata": {
            "tags": []
          },
          "execution_count": 15
        },
        {
          "output_type": "display_data",
          "data": {
            "image/png": "[encoded data removed]",
            "text/plain": [
              "<Figure size 432x288 with 1 Axes>"
            ]
          },
          "metadata": {
            "tags": [],
            "needs_background": "light"
          }
        }
      ]
    }
  ]
}